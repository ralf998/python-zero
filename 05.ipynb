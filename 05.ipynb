{
  "nbformat": 4,
  "nbformat_minor": 0,
  "metadata": {
    "kernelspec": {
      "display_name": "Python 3",
      "language": "python",
      "name": "python3"
    },
    "language_info": {
      "codemirror_mode": {
        "name": "ipython",
        "version": 3
      },
      "file_extension": ".py",
      "mimetype": "text/x-python",
      "name": "python",
      "nbconvert_exporter": "python",
      "pygments_lexer": "ipython3",
      "version": "3.6.8"
    },
    "colab": {
      "name": "05.ipynb",
      "provenance": []
    }
  },
  "cells": [
    {
      "cell_type": "markdown",
      "metadata": {
        "id": "rPI31ZjBhJeE"
      },
      "source": [
        "# Abrindo a caixa de ferramentas\n",
        "\n",
        "Se você chegou até aqui, você já sabe tanto quanto a maior parte dos programadores iniciantes.\n",
        "\n",
        "Que tal saber um pouco mais? 😎\n",
        "\n",
        "## Iterando sobre coleções \n",
        "\n",
        "No roteiro 03, falamos que o `for` pode ter dois usos principais:\n",
        "\n",
        "| Estrutura | Significado |\n",
        "|:----:|:--|\n",
        "| ```for``` | Sabemos quantas vezes queremos executar um código.  <br> Queremos iterar sobre os elementos de uma coleção.|\n",
        "\n",
        "Naquele roteiro, nós estudamos apenas o primeiro uso do `for`. \n",
        "\n",
        "Vamos ver um exemplo do segundo caso:"
      ]
    },
    {
      "cell_type": "code",
      "metadata": {
        "id": "wP1LcWLUhJeY"
      },
      "source": [
        "pares = {2, 4, 6, 8}\n",
        "for p in pares:\n",
        "    print(p)"
      ],
      "execution_count": null,
      "outputs": []
    },
    {
      "cell_type": "markdown",
      "metadata": {
        "id": "4FB5OvvGhJec"
      },
      "source": [
        "> Que loucura foi essa? 😱\n",
        "\n",
        "Vamos entender uma linha de cada vez:\n",
        "1. Em vez de associarmos `pares` a um valor, nós associamos a um **conjunto** de valores (um `set`). Em Python, a notação para criar um `set` é listar os valores separados por vírgulas, delimitados por chaves.\n",
        "2. A cada iteração, o `for` associa a variável `p` a um elemento do conjunto `pares`. Uma característica do `set` é que os elementos não são armazenados em ordem. Assim, a única certeza que temos é que o `for` vai iterar sobre todos os elementos, mas não podemos confiar na ordem dessa iteração!\n",
        "3. A variável `p` pode ser usada dentro do escopo do `for`.\n",
        "\n",
        "> Mas se não temos garantia de ordem, qual a vantagem de usar o `for` assim? 🤔\n",
        "\n",
        "Na verdade, o `set` é apenas um dos exemplos de **coleções** de dados do Python. \n",
        "\n",
        "No caso do `set`, seu uso principal é testar se um elemento existe no conjunto."
      ]
    },
    {
      "cell_type": "code",
      "metadata": {
        "id": "NPm-czTBhJei"
      },
      "source": [
        "2 in pares"
      ],
      "execution_count": null,
      "outputs": []
    },
    {
      "cell_type": "code",
      "metadata": {
        "id": "eFwyCh8fhJel"
      },
      "source": [
        "1 in pares"
      ],
      "execution_count": null,
      "outputs": []
    },
    {
      "cell_type": "markdown",
      "metadata": {
        "id": "dgT8FH3xhJem"
      },
      "source": [
        "Para adicionar ou remover elementos de um conjunto, usamos as opções `add()` e `remove()`. No entanto, não é possível armazenar valores repetidos em um `set`."
      ]
    },
    {
      "cell_type": "code",
      "metadata": {
        "id": "q8CRkPn5hJeo",
        "outputId": "9d3cb88a-e1f0-4153-de6b-143a08e99ce2",
        "colab": {
          "base_uri": "https://localhost:8080/"
        }
      },
      "source": [
        "conjunto = {1, 2}\n",
        "conjunto.add(3)\n",
        "conjunto.remove(2)\n",
        "print(conjunto)"
      ],
      "execution_count": 146,
      "outputs": [
        {
          "output_type": "stream",
          "name": "stdout",
          "text": [
            "{1, 3}\n"
          ]
        }
      ]
    },
    {
      "cell_type": "code",
      "metadata": {
        "id": "z9WB62kLhJer",
        "outputId": "890195cc-7022-416c-e63e-3ba50cb9beca",
        "colab": {
          "base_uri": "https://localhost:8080/"
        }
      },
      "source": [
        "duplicados = {2, 2, 4, 4}\n",
        "print(duplicados)\n",
        "conjunto.add(3)\n",
        "print(conjunto)"
      ],
      "execution_count": 145,
      "outputs": [
        {
          "output_type": "stream",
          "name": "stdout",
          "text": [
            "{2, 4}\n",
            "{1, 3}\n"
          ]
        }
      ]
    },
    {
      "cell_type": "markdown",
      "metadata": {
        "id": "_y3V9WrqhJet"
      },
      "source": [
        "Também é possível realizar operações típicas de conjuntos utilizado `sets`, como união, intersecção e diferença. "
      ]
    },
    {
      "cell_type": "code",
      "metadata": {
        "scrolled": true,
        "id": "cqwNRJwzhJev"
      },
      "source": [
        "impares = {1, 3, 5, 7}\n",
        "impares | pares"
      ],
      "execution_count": null,
      "outputs": []
    },
    {
      "cell_type": "code",
      "metadata": {
        "scrolled": true,
        "id": "_Y5IUw9-hJez"
      },
      "source": [
        "impares & pares"
      ],
      "execution_count": null,
      "outputs": []
    },
    {
      "cell_type": "code",
      "metadata": {
        "id": "s0qhq3t5hJe1"
      },
      "source": [
        "impares - pares"
      ],
      "execution_count": null,
      "outputs": []
    },
    {
      "cell_type": "markdown",
      "metadata": {
        "id": "_TmRKT_2hJe2"
      },
      "source": [
        "> `set()` é a forma como o Python representa um conjunto vazio."
      ]
    },
    {
      "cell_type": "markdown",
      "metadata": {
        "id": "gaJQ4VLLhJe3"
      },
      "source": [
        "### Exercícios de fixação"
      ]
    },
    {
      "cell_type": "markdown",
      "metadata": {
        "id": "8SKeh-iAhJe4"
      },
      "source": [
        "1 - Crie um conjunto `primos` que contenha 5 números primos entre 2 e 100 escolhidos aleatoriamente."
      ]
    },
    {
      "cell_type": "code",
      "metadata": {
        "id": "LLMwutRohJe4",
        "outputId": "f2c9b732-1ea8-4fa9-b56d-1872acad62a5",
        "colab": {
          "base_uri": "https://localhost:8080/"
        }
      },
      "source": [
        "primes = [2, 3, 5, 7, 11, 13, 17, 19, 23, 29, 31, 37, 41, 43, 47, 53, 59, 61, 67, 71, 73, 79, 83, 89, 97]\n",
        "primos = []\n",
        "for x in range(5):\n",
        "  primos.append(primes[random.randint(0,len(primes)-1)])"
      ],
      "execution_count": 76,
      "outputs": [
        {
          "output_type": "stream",
          "name": "stdout",
          "text": [
            "[13, 59, 79, 71, 7]\n"
          ]
        }
      ]
    },
    {
      "cell_type": "markdown",
      "metadata": {
        "id": "ajMyv3hvhJe6"
      },
      "source": [
        "2 - Crie um conjunto `fibonacci` que contenha 5 números da série de Fibonacci entre 2 e 100 escolhidos aleatoriamente."
      ]
    },
    {
      "cell_type": "code",
      "metadata": {
        "id": "_0wS-Jg1hJe7",
        "outputId": "6a9c9b46-8706-41c4-e2ea-e2a24f4054bf",
        "colab": {
          "base_uri": "https://localhost:8080/"
        }
      },
      "source": [
        "fib = [2, 3, 5, 8, 13, 21, 34, 55, 89]\n",
        "fibonacci = []\n",
        "for x in range(5):\n",
        "  fibonacci.append(fib[random.randint(0,len(fib)-1)])"
      ],
      "execution_count": 77,
      "outputs": [
        {
          "output_type": "stream",
          "name": "stdout",
          "text": [
            "[89, 8, 34, 2, 89]\n"
          ]
        }
      ]
    },
    {
      "cell_type": "markdown",
      "metadata": {
        "id": "6q3AfSHYhJe7"
      },
      "source": [
        "3 - Verifique se algum número sorteado nos exemplos anteriores pertence ao mesmo tempo a `primos` e a `fibonacci`."
      ]
    },
    {
      "cell_type": "code",
      "metadata": {
        "id": "YL-SGc3nhJe7",
        "outputId": "98170653-5bbc-4d89-abe3-58eb35b5c20c",
        "colab": {
          "base_uri": "https://localhost:8080/"
        }
      },
      "source": [
        "both = []\n",
        "for x in primos:\n",
        "  if (x in fib):\n",
        "    both.append(x)\n",
        "for x in fibonacci:\n",
        "  if (x in primes):\n",
        "    both.append(x)"
      ],
      "execution_count": 78,
      "outputs": [
        {
          "output_type": "stream",
          "name": "stdout",
          "text": [
            "[13, 89, 2, 89]\n"
          ]
        }
      ]
    },
    {
      "cell_type": "markdown",
      "metadata": {
        "id": "hL2kO0sOhJe8"
      },
      "source": [
        "## Coleções associativas"
      ]
    },
    {
      "cell_type": "markdown",
      "metadata": {
        "id": "w1SYiZ9shJe9"
      },
      "source": [
        "Um outro tipo de coleção disponível no Python são os **dicionários** (`dict`), que além das operações básicas de conjuntos possuem também a capacidade de **associação**.\n",
        "\n",
        "Em um `dict`, um conjunto de **chaves** (`keys`) está associado a **valores** (`values`). Veja o exemplo abaixo:"
      ]
    },
    {
      "cell_type": "code",
      "metadata": {
        "id": "cRJPW-ushJe9"
      },
      "source": [
        "Leonardo = {\"inglês\": \"fluente\", \"espanhol\": \"fluente\", \"italiano\": \"conversa\"}\n",
        "Júlia = {\"inglês\": \"compreende\"}"
      ],
      "execution_count": null,
      "outputs": []
    },
    {
      "cell_type": "markdown",
      "metadata": {
        "id": "LjDFd1fmhJe-"
      },
      "source": [
        "Chaves:"
      ]
    },
    {
      "cell_type": "code",
      "metadata": {
        "scrolled": false,
        "id": "Fa-spdJFhJe-"
      },
      "source": [
        "for key in Leonardo.keys():\n",
        "    print(key)"
      ],
      "execution_count": null,
      "outputs": []
    },
    {
      "cell_type": "markdown",
      "metadata": {
        "id": "UsRP_hkwhJe_"
      },
      "source": [
        "Valores:"
      ]
    },
    {
      "cell_type": "code",
      "metadata": {
        "id": "g3-g0rRGhJfA"
      },
      "source": [
        "for value in Leonardo.values():\n",
        "    print(value)"
      ],
      "execution_count": null,
      "outputs": []
    },
    {
      "cell_type": "markdown",
      "metadata": {
        "id": "ktyX4Q6jhJfB"
      },
      "source": [
        "Assim como no exemplo do `set`, não há garantia de ordem ao percorrer os elementos de um `dict`.\n",
        "\n",
        "No entanto, podemos fazer todas as operações de conjuntos sobre `keys`.\n",
        "\n",
        "- Idiomas em comum:"
      ]
    },
    {
      "cell_type": "markdown",
      "metadata": {
        "id": "3p6JBzNlhJfC"
      },
      "source": [
        ""
      ]
    },
    {
      "cell_type": "code",
      "metadata": {
        "scrolled": true,
        "id": "97NR8BOihJfC"
      },
      "source": [
        "Leonardo.keys() & Júlia.keys()"
      ],
      "execution_count": null,
      "outputs": []
    },
    {
      "cell_type": "markdown",
      "metadata": {
        "id": "ihx2ss6JhJfC"
      },
      "source": [
        "- Idiomas que Leonardo fala, mas Júlia não fala:"
      ]
    },
    {
      "cell_type": "code",
      "metadata": {
        "scrolled": true,
        "id": "VBV59YpzhJfD"
      },
      "source": [
        "Leonardo.keys() - Júlia.keys()"
      ],
      "execution_count": null,
      "outputs": []
    },
    {
      "cell_type": "markdown",
      "metadata": {
        "id": "PzcZmsKlhJfD"
      },
      "source": [
        "- Júlia fala espanhol?"
      ]
    },
    {
      "cell_type": "code",
      "metadata": {
        "scrolled": true,
        "id": "wjyuJR6khJfD"
      },
      "source": [
        "\"espanhol\" in Júlia"
      ],
      "execution_count": null,
      "outputs": []
    },
    {
      "cell_type": "markdown",
      "metadata": {
        "id": "EuBr4mKOhJfE"
      },
      "source": [
        "### Valores associados"
      ]
    },
    {
      "cell_type": "markdown",
      "metadata": {
        "id": "OHdZdt7ZhJfF"
      },
      "source": [
        "Além das operações de conjunto sobre as chaves, os valores armazenados em um dicionário podem ser acessados usando a chave correspondente:"
      ]
    },
    {
      "cell_type": "code",
      "metadata": {
        "id": "Xow7OLRrhJfG"
      },
      "source": [
        "Leonardo[\"inglês\"]"
      ],
      "execution_count": null,
      "outputs": []
    },
    {
      "cell_type": "markdown",
      "metadata": {
        "id": "i7ZEBgsDhJfG"
      },
      "source": [
        "Se buscarmos uma chave que não existe, teremos um erro:"
      ]
    },
    {
      "cell_type": "code",
      "metadata": {
        "id": "IDfYwkEehJfH"
      },
      "source": [
        "Leonardo[\"alemão\"]"
      ],
      "execution_count": null,
      "outputs": []
    },
    {
      "cell_type": "markdown",
      "metadata": {
        "id": "NMV8vFqshJfH"
      },
      "source": [
        "Também é possível associar uma chave a um novo valor:"
      ]
    },
    {
      "cell_type": "code",
      "metadata": {
        "id": "WcDBBsBbhJfH"
      },
      "source": [
        "Leonardo[\"italiano\"] = \"conversação\"\n",
        "Leonardo[\"italiano\"]"
      ],
      "execution_count": null,
      "outputs": []
    },
    {
      "cell_type": "markdown",
      "metadata": {
        "id": "ncw4HhAbhJfJ"
      },
      "source": [
        "A operação de associação também aceita novas chaves. \n",
        "\n",
        "Neste caso, estamos acrescentando um novo par chave-valor ao `dict`. "
      ]
    },
    {
      "cell_type": "code",
      "metadata": {
        "id": "bn2iqgWrhJfJ"
      },
      "source": [
        "Leonardo[\"alemão\"] = \"compra na Amazon\"\n",
        "print(Leonardo)"
      ],
      "execution_count": null,
      "outputs": []
    },
    {
      "cell_type": "markdown",
      "metadata": {
        "id": "Rn6wMWIghJfK"
      },
      "source": [
        "Para remover uma chave, usamos o comando `del`:"
      ]
    },
    {
      "cell_type": "code",
      "metadata": {
        "scrolled": false,
        "id": "LmMFhvwvhJfK"
      },
      "source": [
        "del Júlia[\"inglês\"]\n",
        "print(Júlia)"
      ],
      "execution_count": null,
      "outputs": []
    },
    {
      "cell_type": "markdown",
      "metadata": {
        "id": "6PhlvHqnhJfK"
      },
      "source": [
        "> `{}` é a forma como o Python representa um dicionário vazio."
      ]
    },
    {
      "cell_type": "markdown",
      "metadata": {
        "id": "tgyiVFvEhJfK"
      },
      "source": [
        "### Exercícios de fixação"
      ]
    },
    {
      "cell_type": "markdown",
      "metadata": {
        "id": "eAMORgQuhJfL"
      },
      "source": [
        "1 - Peça ao usuário para informar 10 números entre 0 e 30 e conte quantas vezes cada número foi informado."
      ]
    },
    {
      "cell_type": "markdown",
      "metadata": {
        "id": "bxzRzyFp-6xJ"
      },
      "source": [
        ""
      ]
    },
    {
      "cell_type": "code",
      "metadata": {
        "id": "jx3Z06DOhJfL",
        "outputId": "67f2c192-370c-4b42-861f-e092f5dd8b82",
        "colab": {
          "base_uri": "https://localhost:8080/"
        }
      },
      "source": [
        "qtd_u = [0,0,0,0,0,0,0,0,0,0,0,0,0,0,0,0,0,0,0,0,0,0,0,0,0,0,0,0,0,0,0]\n",
        "for x in range(10):\n",
        "  number = int(input())\n",
        "  qtd_u[number] = qtd_u[number]+1"
      ],
      "execution_count": 91,
      "outputs": [
        {
          "name": "stdout",
          "output_type": "stream",
          "text": [
            "5\n",
            "5\n",
            "10\n",
            "10\n",
            "27\n",
            "27\n",
            "17\n",
            "17\n",
            "1\n",
            "1\n"
          ]
        }
      ]
    },
    {
      "cell_type": "markdown",
      "metadata": {
        "id": "4REQdocwhJfY"
      },
      "source": [
        "2 - Gere 10 números aleatórios entre 0 e 30 e conte quantas vezes cada número foi gerado."
      ]
    },
    {
      "cell_type": "code",
      "metadata": {
        "id": "fzNxtPPUhJfY"
      },
      "source": [
        "qtd_c = [0,0,0,0,0,0,0,0,0,0,0,0,0,0,0,0,0,0,0,0,0,0,0,0,0,0,0,0,0,0,0]\n",
        "for x in range(10):\n",
        "  number = random.randint(0,30)\n",
        "  qtd_c[number] = qtd_c[number]+1"
      ],
      "execution_count": 98,
      "outputs": []
    },
    {
      "cell_type": "markdown",
      "metadata": {
        "id": "6JQJHPguhJfY"
      },
      "source": [
        "3 - Conte quantos números idênticos o usuário e o computador escolheram."
      ]
    },
    {
      "cell_type": "code",
      "metadata": {
        "id": "wHiM6d6ghJfY",
        "outputId": "ce4cd093-af52-474a-f9cc-5afb8954f839",
        "colab": {
          "base_uri": "https://localhost:8080/"
        }
      },
      "source": [
        "copy = 0\n",
        "for x in range(31):\n",
        "  if qtd_u[x]>0 and qtd_c[x]>0:\n",
        "    if qtd_u[x]<qtd_c[x]:\n",
        "      copy = copy + qtd_u[x]\n",
        "    else:\n",
        "      copy = copy + qtd_c[x]\n",
        "print(copy)"
      ],
      "execution_count": 100,
      "outputs": [
        {
          "output_type": "stream",
          "name": "stdout",
          "text": [
            "2\n"
          ]
        }
      ]
    },
    {
      "cell_type": "markdown",
      "metadata": {
        "id": "LcKTinwLhJfZ"
      },
      "source": [
        "## Coleções com ordem"
      ]
    },
    {
      "cell_type": "markdown",
      "metadata": {
        "id": "z2cRS0bKhJfa"
      },
      "source": [
        "Nos exemplos de coleções que vimos até aqui, a ordem dos elementos não era preservada.\n",
        "\n",
        "**Por não preservar ordem, conjuntos e dicionários são muito rápidos em suas operações.**\n",
        "\n",
        "Em algumas situações, no entanto, precisamos usar coleções com ordem.\n",
        "\n",
        "Nesse notebook, vamos ver o caso das listas (`list`):"
      ]
    },
    {
      "cell_type": "code",
      "metadata": {
        "scrolled": true,
        "id": "8kyjWt5YhJfa",
        "outputId": "a93972cf-98c6-47d0-a59f-150ab1280538"
      },
      "source": [
        "espera = [3, 5, 2, 4]\n",
        "for pessoa in espera:\n",
        "    print(pessoa)"
      ],
      "execution_count": null,
      "outputs": [
        {
          "name": "stdout",
          "output_type": "stream",
          "text": [
            "3\n",
            "5\n",
            "2\n",
            "4\n"
          ]
        }
      ]
    },
    {
      "cell_type": "markdown",
      "metadata": {
        "id": "81FNXV2FhJfb"
      },
      "source": [
        "Em Python, a notação para criar uma `list` é listar os valores separados por vírgulas, delimitados por colchetes.\n",
        "\n",
        "A garantia de ordem das listas abre um novo mundo de possibilidades.\n",
        "\n",
        "Agora podemos, por exemplo, inserir um elemento no meio da lista, inclusive se ele já existir na lista:"
      ]
    },
    {
      "cell_type": "code",
      "metadata": {
        "scrolled": true,
        "id": "g6INcfUWhJfd",
        "outputId": "e0a590cc-2bce-4da0-d028-815f49b278a5"
      },
      "source": [
        "espera.insert(3,5)\n",
        "espera"
      ],
      "execution_count": null,
      "outputs": [
        {
          "data": {
            "text/plain": [
              "[3, 5, 2, 5, 4]"
            ]
          },
          "execution_count": 9,
          "metadata": {},
          "output_type": "execute_result"
        }
      ]
    },
    {
      "cell_type": "markdown",
      "metadata": {
        "id": "sLj5sn2HhJfd"
      },
      "source": [
        "> Opa, deu errado.. Eu mandei inserir na posição 3 ☹️"
      ]
    },
    {
      "cell_type": "markdown",
      "metadata": {
        "id": "LoAzhvsvhJff"
      },
      "source": [
        "Em linguagens que se prezam, a contagem de posições em uma coleção ordenada começa no índice 0. \n",
        "\n",
        "Podemos acessar posições de uma lista usando colchetes após seu nome:"
      ]
    },
    {
      "cell_type": "code",
      "metadata": {
        "id": "7q2PnqyphJff",
        "outputId": "a959de54-d9c5-4c1d-9a0b-86991485cd34"
      },
      "source": [
        "print(espera[0])"
      ],
      "execution_count": null,
      "outputs": [
        {
          "name": "stdout",
          "output_type": "stream",
          "text": [
            "3\n"
          ]
        }
      ]
    },
    {
      "cell_type": "code",
      "metadata": {
        "id": "JH2doSt5hJfj",
        "outputId": "ff39bf8a-f9ca-4c29-9ae5-23ce71051f53"
      },
      "source": [
        "print(espera[1])"
      ],
      "execution_count": null,
      "outputs": [
        {
          "name": "stdout",
          "output_type": "stream",
          "text": [
            "5\n"
          ]
        }
      ]
    },
    {
      "cell_type": "code",
      "metadata": {
        "id": "sHsBWXcehJfl",
        "outputId": "8295ddca-6c69-4330-aac6-9943aefde830"
      },
      "source": [
        "print(espera[2])"
      ],
      "execution_count": null,
      "outputs": [
        {
          "name": "stdout",
          "output_type": "stream",
          "text": [
            "2\n"
          ]
        }
      ]
    },
    {
      "cell_type": "code",
      "metadata": {
        "scrolled": false,
        "id": "bWc0bOpOhJfl",
        "outputId": "59a437f3-636f-4585-d701-f936ac0193e0"
      },
      "source": [
        "print(espera[3])"
      ],
      "execution_count": null,
      "outputs": [
        {
          "name": "stdout",
          "output_type": "stream",
          "text": [
            "5\n"
          ]
        }
      ]
    },
    {
      "cell_type": "markdown",
      "metadata": {
        "id": "6nBZIT3thJfm"
      },
      "source": [
        "Também é possível remover um elemento de uma determinada posição:"
      ]
    },
    {
      "cell_type": "code",
      "metadata": {
        "scrolled": false,
        "id": "x2JfuJwmhJfn",
        "outputId": "e67f0803-98db-4048-cb6e-4f2e1d3d5a35"
      },
      "source": [
        "espera.pop(3)\n",
        "print(espera)"
      ],
      "execution_count": null,
      "outputs": [
        {
          "name": "stdout",
          "output_type": "stream",
          "text": [
            "[3, 5, 2, 4]\n"
          ]
        }
      ]
    },
    {
      "cell_type": "markdown",
      "metadata": {
        "id": "KEZpRzXohJfn"
      },
      "source": [
        "Acessar posições de uma lista também é chamado de indexar a lista, já que usamos índices para representar as posições.\n",
        "\n",
        "Note que também seria possível iterar sobre os elementos de uma lista usando índices. \n",
        "\n",
        "Podemos fazer isso usando o procedimento `enumerate`, que permite iterar sobre uma lista tendo acesso ao índice e ao elemento ao mesmo tempo:"
      ]
    },
    {
      "cell_type": "code",
      "metadata": {
        "id": "HMag0OAnhJfn",
        "outputId": "61da1008-fe71-4cc8-b432-32780ee29fb1"
      },
      "source": [
        "for índice, valor in enumerate(espera):\n",
        "    print(índice, \": \", valor, sep=\"\")"
      ],
      "execution_count": null,
      "outputs": [
        {
          "name": "stdout",
          "output_type": "stream",
          "text": [
            "0: 3\n",
            "1: 5\n",
            "2: 2\n",
            "3: 4\n"
          ]
        }
      ]
    },
    {
      "cell_type": "markdown",
      "metadata": {
        "id": "BNdnyQKJhJfo"
      },
      "source": [
        "Um outro caso é quando precisamos seguir uma sequência diferente da ordem dos elementos na lista (avançando ou voltando ao longo da iteração). Neste caso, usamos o laço `while` e o procedimento `len`, que calcula o tamanho da lista.\n",
        "\n",
        "O código a seguir testa se uma palavra é um palíndromo, isto é, se ele pode ser lida tanto da esquerda para direita como da direita para esquerda:"
      ]
    },
    {
      "cell_type": "markdown",
      "metadata": {
        "id": "VdEqYZtxhJfq"
      },
      "source": [
        "> Em Python, um texto pode ser tratado como uma lista de letras! 😱😮😳"
      ]
    },
    {
      "cell_type": "code",
      "metadata": {
        "id": "U2kJlvFHhJfr"
      },
      "source": [
        "def palíndromo(palavra):\n",
        "    início = 0\n",
        "    fim = len(palavra) - 1\n",
        "    while início < fim:\n",
        "        if palavra[início] != palavra[fim]:\n",
        "            return False\n",
        "        início += 1\n",
        "        fim -= 1\n",
        "    return True"
      ],
      "execution_count": null,
      "outputs": []
    },
    {
      "cell_type": "code",
      "metadata": {
        "scrolled": true,
        "id": "JemdAJjchJfs",
        "outputId": "a19cbfa5-489c-44c3-e01c-d1b088b6120a"
      },
      "source": [
        "palíndromo(\"reviver\")"
      ],
      "execution_count": null,
      "outputs": [
        {
          "data": {
            "text/plain": [
              "True"
            ]
          },
          "execution_count": 7,
          "metadata": {},
          "output_type": "execute_result"
        }
      ]
    },
    {
      "cell_type": "code",
      "metadata": {
        "scrolled": true,
        "id": "XkJIRO-ZhJft",
        "outputId": "679f38fa-c3a3-45f3-fd35-1eba4a43e4e8"
      },
      "source": [
        "palíndromo(\"roma\")"
      ],
      "execution_count": null,
      "outputs": [
        {
          "data": {
            "text/plain": [
              "False"
            ]
          },
          "execution_count": 8,
          "metadata": {},
          "output_type": "execute_result"
        }
      ]
    },
    {
      "cell_type": "markdown",
      "metadata": {
        "id": "KOt37uv0hJft"
      },
      "source": [
        "Algumas operações são tão comuns em listas que o Python oference um atalho para elas.\n",
        "\n",
        "Pra inserir um elemento no final, por exemplo, temos a opção `append`:"
      ]
    },
    {
      "cell_type": "code",
      "metadata": {
        "id": "YJ4hckdThJfu"
      },
      "source": [
        "espera.append(7)\n",
        "print(espera)"
      ],
      "execution_count": null,
      "outputs": []
    },
    {
      "cell_type": "markdown",
      "metadata": {
        "id": "Qicm0P6BhJfu"
      },
      "source": [
        "### Exercícios de fixação"
      ]
    },
    {
      "cell_type": "markdown",
      "metadata": {
        "id": "iZ-3u9Y-hJfv"
      },
      "source": [
        "1 - Crie uma lista `só_pares` contendo 10 números gerados aleatoriamente entre 0 e 100."
      ]
    },
    {
      "cell_type": "code",
      "metadata": {
        "id": "HTYut2SHhJfv",
        "outputId": "be7e4584-48a6-4035-fe13-52257afb51ca",
        "colab": {
          "base_uri": "https://localhost:8080/"
        }
      },
      "source": [
        "so_pares = []\n",
        "for x in range(10):\n",
        "  so_pares.append(random.randint(0,100))"
      ],
      "execution_count": 104,
      "outputs": [
        {
          "output_type": "stream",
          "name": "stdout",
          "text": [
            "[62, 7, 86, 94, 9, 24, 53, 13, 25, 10]\n"
          ]
        }
      ]
    },
    {
      "cell_type": "markdown",
      "metadata": {
        "id": "Z16v0iOPhJfw"
      },
      "source": [
        "2 - Processe a lista `só_pares` para que sobrem apenas números pares, utilizando uma sequência de remoções manuais."
      ]
    },
    {
      "cell_type": "code",
      "metadata": {
        "id": "LUjxdO-ghJfw",
        "outputId": "d29b8aff-1299-45c6-f9f7-ae61bb1c0083",
        "colab": {
          "base_uri": "https://localhost:8080/"
        }
      },
      "source": [
        "for x in range(9,0,-1):\n",
        "  if (so_pares[x]%2)!=0:\n",
        "    so_pares.pop(x)"
      ],
      "execution_count": 109,
      "outputs": [
        {
          "output_type": "stream",
          "name": "stdout",
          "text": [
            "[62, 86, 94, 24, 10]\n"
          ]
        }
      ]
    },
    {
      "cell_type": "markdown",
      "metadata": {
        "id": "KpQ6_Gy9hJfw"
      },
      "source": [
        "3 - Gere uma nova lista `alternados`, contendo 10 números gerados aleatoriamente entre 0 e 100. Após sua criação, processe a lista `alternados` de forma automatizada para que sobrem apenas números pares."
      ]
    },
    {
      "cell_type": "code",
      "metadata": {
        "id": "WAXEpFCzhJfw"
      },
      "source": [
        "alternados = []\n",
        "for x in range(10):\n",
        "  alternados.append(random.randint(0,100))\n",
        "for x in range(9,-1,-1):\n",
        "  if (alternados[x]%2)!=0:\n",
        "    alternados.pop(x)"
      ],
      "execution_count": 121,
      "outputs": []
    },
    {
      "cell_type": "markdown",
      "metadata": {
        "id": "m4VX95jBhJfx"
      },
      "source": [
        "4 - Adicione números ímpares gerados aleatoriamente a `alternados`, de forma que após entre dois números pares haja apenas um número ímpar. "
      ]
    },
    {
      "cell_type": "code",
      "metadata": {
        "id": "P5ZoFLwXCSWS"
      },
      "source": [
        "s = len(alternados)\n",
        "for x in range(1,2*s-1,2):\n",
        "  aux = 2\n",
        "  while aux%2==0:\n",
        "    aux = random.randint(0,100)\n",
        "  alternados.insert(x,aux)"
      ],
      "execution_count": 123,
      "outputs": []
    },
    {
      "cell_type": "markdown",
      "metadata": {
        "id": "p1ikw3ljhJfz"
      },
      "source": [
        "## Exercícios do URI"
      ]
    },
    {
      "cell_type": "markdown",
      "metadata": {
        "id": "lqO8_doHhJf0"
      },
      "source": [
        "[1281](https://www.urionlinejudge.com.br/judge/pt/problems/view/1281) - Dona Parcinova costuma ir regularmente à feira para comprar frutas e legumes. Ela pediu então à sua filha, Mangojata, que a ajudasse com as contas e que fizesse um programa que calculasse o valor que precisa levar para poder comprar tudo que está em sua lista de compras, considerando a quantidade de cada tipo de fruta ou legume e os preços destes itens.\n",
        "\n",
        "A primeira linha de entrada contém um inteiro N que indica a quantidade de idas à feira de dona Parcinova (que nada mais é do que o número de casos de teste que vem a seguir). Cada caso de teste inicia com um inteiro M que indica a quantidade de produtos que estão disponíveis para venda na feira. Seguem os M produtos com seus preços respectivos por unidade ou Kg. A próxima linha de entrada contém um inteiro P (1 ≤ P ≤ M) que indica a quantidade de diferentes produtos que dona Parcinova deseja comprar. Seguem P linhas contendo cada uma delas um texto e um valor inteiro, que indicam respectivamente o nome de cada produto e a quantidade deste produto.\n",
        "\n",
        "Para cada caso de teste, imprima o valor que será gasto por dona Parcinova, com 2 casas decimais, conforme o exemplo abaixo."
      ]
    },
    {
      "cell_type": "markdown",
      "metadata": {
        "id": "m4leCoxKhJf2"
      },
      "source": [
        "|.| Entrada | Saída |\n",
        "|-|:----:|:-:|\n",
        "| *Exemplo 1* | 4<br/>mamao 2.19<br/>cebola 3.10<br/>tomate 2.80<br/>uva 2.73<br/>3<br/>mamao 2<br/>tomate 1<br/>uva 3<br/> | 15.37 | \n",
        "| *Exemplo 2* | 5<br/>morango 6.70<br/>repolho 1.12<br/>brocolis 1.71<br/>tomate 2.80<br/>cebola 2.81<br/>4<br/>brocolis 2<br/>tomate 1<br/>cebola 1<br/>morango 1 | 15.73 | \n",
        "| *Exemplo 3* | 5<br/>ovos 8.45<br/>pão 3.10<br/>bacon 7.32<br/>iogurte 2.47<br/>coalhada 1.75<br/>3<br/>bacon 2<br/>ovos 1<br/>coalhada 4 | 30.09 | "
      ]
    },
    {
      "cell_type": "code",
      "metadata": {
        "id": "HMQOMXpChJf4",
        "outputId": "7c1b0134-2519-4252-e38d-0776aeb77ce7",
        "colab": {
          "base_uri": "https://localhost:8080/"
        }
      },
      "source": [
        "produto = []\n",
        "preço = []\n",
        "valor = 0\n",
        "n = int(input())\n",
        "for x in range(n):\n",
        "  aux = input()\n",
        "  produto.append(aux.split()[0])\n",
        "  preço.append(float(aux.split()[1]))\n",
        "n = int(input())\n",
        "for x in range(n):\n",
        "  aux = input()\n",
        "  prod = aux.split()[0]\n",
        "  qtd = float(aux.split()[1])\n",
        "  valor = valor + preço[produto.index(prod)]*qtd\n",
        "print(valor)"
      ],
      "execution_count": 129,
      "outputs": [
        {
          "output_type": "stream",
          "name": "stdout",
          "text": [
            "4\n",
            "mamao 2.19\n",
            "cebola 3.10\n",
            "tomate 2.80\n",
            "uva 2.73\n",
            "3\n",
            "mamao 2\n",
            "tomate 1\n",
            "uva 3\n",
            "['mamao', 'cebola', 'tomate', 'uva']\n",
            "[2.19, 3.1, 2.8, 2.73]\n",
            "15.37\n"
          ]
        }
      ]
    },
    {
      "cell_type": "markdown",
      "metadata": {
        "id": "Fib4ZFruhJf5"
      },
      "source": [
        "[1104](https://www.urionlinejudge.com.br/judge/pt/problems/view/1104) - Alice e Beatriz colecionam cartas de Pokémon. As cartas são produzidas para um jogo que reproduz a batalha introduzida em um dos mais bem sucedidos jogos de videogame da história, mas Alice e Beatriz são muito pequenas para jogar, e estão interessadas apenas nas cartas propriamente ditas. Para facilitar, vamos considerar que cada carta possui um identificador único, que é um número inteiro.\n",
        "\n",
        "Cada uma das duas meninas possui um conjunto de cartas e, como a maioria das garotas de sua idade, gostam de trocar entre si as cartas que têm. Elas obviamente não têm interesse emtrocar cartas idênticas, que ambas possuem, e não querem receber cartas repetidas na troca. Além disso, as cartas serão trocadas em uma única operação de troca: Alice dá para Beatriz um sub-conjunto com N cartas distintas e recebe de volta um outro sub-conjunto com N cartas distintas.\n",
        "\n",
        "As meninas querem saber qual é o número máximo de cartas que podem ser trocadas. Por exemplo, se Alice tem o conjunto de cartas {1, 1, 2, 3, 5, 7, 8, 8, 9, 15} e Beatriz o conjunto {2, 2, 2, 3, 4, 6, 10, 11, 11}, elas podem trocar entre si no máximo quatro cartas. Escreva um código que, dados os conjuntos de cartas que Alice e Beatriz possuem, determine o número máximo de cartas que podem ser trocadas.\n",
        "\n",
        "A primeira linha da entrada contém números inteiros representando as cartas do conjunto de Alice, separados por um espaço em branco. A segunda linha contém números inteiros representando as cartas do conjunto de Beatriz. As cartas de Alice e Beatriz são apresentadas em ordem não decrescente.\n",
        "\n",
        "Imprima uma única linha, contendo um numero inteiro, indicando o número máximo de cartas que Alice e Beatriz podem trocar entre si."
      ]
    },
    {
      "cell_type": "markdown",
      "metadata": {
        "id": "InGx6SHfhJf6"
      },
      "source": [
        "|.| Entrada | Saída |\n",
        "|-|:----:|:-:|\n",
        "| *Exemplo 1* | 1000<br/>1000 | 0 | \n",
        "| *Exemplo 2* | 1 3 5<br/>2 4 6 8 | 3 | \n",
        "| *Exemplo 3* | 1 1 2 3 5 7 8 8 9 15<br/>2 2 2 3 4 6 10 11 11 | 4 | "
      ]
    },
    {
      "cell_type": "code",
      "metadata": {
        "id": "wv_o-GnAhJf6",
        "outputId": "6c2f2ae2-465f-456e-b642-f3d49a0dd044",
        "colab": {
          "base_uri": "https://localhost:8080/"
        }
      },
      "source": [
        "a = {}\n",
        "a = list(input())\n",
        "b = {}\n",
        "b = list(input())\n",
        "while ' ' in a:\n",
        "  a.remove(' ')\n",
        "while ' ' in b:\n",
        "  b.remove(' ')\n",
        "qtda = 0\n",
        "qtdb = 0\n",
        "for x in a:\n",
        "  if (x not in b):\n",
        "    print(ax)\n",
        "    qtda = qtda + 1\n",
        "for x in b:\n",
        "  if (x not in a):\n",
        "    print(bx)\n",
        "    qtdb = qtdb + 1\n",
        "if qtda>qtdb:\n",
        "  qtd = qtdb\n",
        "else:\n",
        "  qtd = qtda\n",
        "print(qtda)\n",
        "print(qtdb)\n",
        "print(qtd)"
      ],
      "execution_count": 150,
      "outputs": [
        {
          "output_type": "stream",
          "name": "stdout",
          "text": [
            "1 1 2 3 5 7 8 8 9 15\n",
            "2 2 2 3 4 6 10 11 11\n",
            "5\n",
            "7\n",
            "8\n",
            "8\n",
            "9\n",
            "5\n",
            "4\n",
            "6\n",
            "0\n",
            "6\n",
            "3\n",
            "3\n"
          ]
        }
      ]
    },
    {
      "cell_type": "markdown",
      "metadata": {
        "id": "XkJMHSI3hJf8"
      },
      "source": [
        "[1110](https://www.urionlinejudge.com.br/judge/pt/problems/view/1110) - Piotr é um canadense gente boa que veio morar no Brasil e nas horas vagas gosta de jogar cartas.\n",
        "\n",
        "Um dos jogos preferidos dele é o de adivinhar qual carta vai ficar por último no baralho, considerando as seguintes condições:\n",
        "- o deck de cartas contém apenas cartas de números. Se o deck tiver n cartas, essas cartas estarão numeradas de 1 a n e ordenadas, com a carta 1 no topo e a carta n no fundo. \n",
        "- a carta descartada é a que estiver no topo.\n",
        "- quando uma carta for descartada, a carta seguinte deverá ser movida para o fim do deck.\n",
        "\n",
        "Escreva um código que ajude os amigos de Piotr a derrotá-lo, descobrindo qual carta ficará por último no baralho.\n",
        "\n",
        "A entrada será um número que indicará quantas cartas têm no deck. A saída deverá ter duas linhas. Na primeira, informe as cartas descartadas, na sequência em que elas forem descartadas. Na segunda, informe a carta que ficou por último no deck."
      ]
    },
    {
      "cell_type": "markdown",
      "metadata": {
        "id": "_9dQW152hJf8"
      },
      "source": [
        "|.| Entrada | Saída |\n",
        "|-|:----:|:-:|\n",
        "| *Exemplo 1* | 7 | 1 3 5 7 4 2<br/>6 | \n",
        "| *Exemplo 2* | 10 | 1 3 5 7 9 2 6 10 8<br/>4 |\n",
        "| *Exemplo 3* | 6 | 1 3 5 2 6<br/> 4 | "
      ]
    },
    {
      "cell_type": "code",
      "metadata": {
        "id": "-4VXfEvMhJf9"
      },
      "source": [
        ""
      ],
      "execution_count": null,
      "outputs": []
    },
    {
      "cell_type": "markdown",
      "metadata": {
        "id": "yaE7RzHlhJf-"
      },
      "source": [
        "## Exercícios do UVa"
      ]
    },
    {
      "cell_type": "markdown",
      "metadata": {
        "id": "4_wFGftwhJf_"
      },
      "source": [
        "[10226](https://uva.onlinejudge.org/index.php?option=onlinejudge&page=show_problem&problem=1167) - Madeira de lei é o grupo botânico de árvores que têm folhas largas, produzem um fruto ou uma noz e geralmente hibernam no inverno. O carvalho e a cerejeira, por exemplo, são tipos de madeira de lei, mas são de diferentes espécies. \n",
        "\n",
        "Usando tecnologia de mapeamento por satélite, o Departamento de Recursos Naturais catalogou todas as árvores existentes. Você precisa calcular o percentual que uma determinada espécie representa em relação à população inteira de árvores.\n",
        "\n",
        "A entrada consiste de uma lista de espécies observadas pelo satélite, uma árvore por linha. \n",
        "\n",
        "Seu código deverá imprimir o nome de cada espécie e seu percentual em relação à população total, considerando 4 casas decimais."
      ]
    },
    {
      "cell_type": "markdown",
      "metadata": {
        "id": "r_8wN3cfhJgA"
      },
      "source": [
        "|.| Entrada | Saída |\n",
        "|-|:----:|:-:|\n",
        "| *Exemplo 1* | Red Alder<br/>Ash<br/>Aspen<br/>Basswood<br/>Ash<br/>Beech<br/>Yellow Birch<br/>Ash<br/>Beech<br/>Cottonwood | Red Alder 10.0000<br/>Ash 30.0000<br/>Aspen  10.0000<br/>Basswood 10.0000<br/>Beech 20.0000<br/>Yellow Birch 10.0000<br/>Cottonwood 10.0000 | \n",
        "| *Exemplo 2* | White Oak<br/>Hickory<br/>Pecan<br/>Hard Maple<br/>White Oak<br/>Soft Maple<br/>Red Oak<br/>Red Oak<br/>White Oak | White Oak 33.3333<br/>Hickory 11.1111<br/>Pecan 11.1111<br/>Hard Maple 11.11111<br/>Soft Maple 11.1111<br/>Red Oak 22.2222 |\n",
        "| *Exemplo 3* | Ash<br/>Cypress<br/>Red Elm<br/>Gum<br/>Hackberry<br/>Poplan<br/>Sassafras | Ash 0.1428<br/>Cypress 0.1428<br/>Red Elm 0.1428<br/>Gum 0.1428<br/>Hackberry 0.1428<br/>Poplan 0.1428<br/>Sassafras 0.1428 | "
      ]
    },
    {
      "cell_type": "code",
      "metadata": {
        "id": "5gmIqVYphJgB"
      },
      "source": [
        ""
      ],
      "execution_count": null,
      "outputs": []
    },
    {
      "cell_type": "markdown",
      "metadata": {
        "id": "wgiVpG6ThJgB"
      },
      "source": [
        "[11849](https://uva.onlinejudge.org/index.php?option=com_onlinejudge&Itemid=8&page=show_problem&problem=2949) - Jack e Jill decidiram vender alguns dos seus livros. Eles decidiram que só vão vender os livros que os dois têm em comum. De cada livro, Jack possui no máximo uma cópia, assim como Jill. Quantos livros Jack e Jill podem vender?\n",
        "\n",
        "Escreva um código que receba como entrada os livros de Jack em uma linha, identificados por um número e separados por espaço. A linha seguinte segue o mesmo padrão e informa os livros de Jill.\n",
        "\n",
        "Seu código deverá informar quantos livros Jack e Jill têm em comum."
      ]
    },
    {
      "cell_type": "markdown",
      "metadata": {
        "id": "cj7gQri8hJgC"
      },
      "source": [
        "|.| Entrada | Saída |\n",
        "|-|:----:|:-:|\n",
        "| *Exemplo 1* | 1 2 3<br/>1 2 4 | 2 | \n",
        "| *Exemplo 2* | 4 8 1 3 2<br/>2 4 6 8 | 3 | \n",
        "| *Exemplo 3* | 5 4 2 3 7 12 9 15<br/>2 6 11 10 9 5 4 3 | 4 | "
      ]
    },
    {
      "cell_type": "code",
      "metadata": {
        "id": "m0rei5WghJgF"
      },
      "source": [
        ""
      ],
      "execution_count": null,
      "outputs": []
    }
  ]
}